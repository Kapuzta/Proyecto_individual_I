{
 "cells": [
  {
   "cell_type": "code",
   "execution_count": 20,
   "metadata": {},
   "outputs": [],
   "source": [
    "from fastapi import FastAPI\n",
    "import pandas as pd"
   ]
  },
  {
   "cell_type": "code",
   "execution_count": 21,
   "metadata": {},
   "outputs": [],
   "source": [
    "''' Crea el FastAPI '''\n",
    "app = FastAPI()"
   ]
  },
  {
   "cell_type": "code",
   "execution_count": 22,
   "metadata": {},
   "outputs": [],
   "source": [
    "'''Carga el dataset de películas'''\n",
    "peliculas = pd.read_csv('plataform_titles.csv')"
   ]
  },
  {
   "cell_type": "code",
   "execution_count": 15,
   "metadata": {},
   "outputs": [],
   "source": [
    "'''Consulta: Pelicula con mayor duracion'''\n",
    "@app.get('/peliculas/max_duration')\n",
    "async def get_max_duration(year: int = None, platform: str = None, duration_type: str = None):\n",
    "    '''Filtra el dataset'''\n",
    "    filtered_titles = peliculas.copy()\n",
    "    if year:\n",
    "        filtered_titles = filtered_titles[filtered_titles['release_year'] == year]\n",
    "    if platform:\n",
    "        filtered_titles = filtered_titles[filtered_titles['platform'] == platform]\n",
    "    if duration_type:\n",
    "        filtered_titles = filtered_titles[filtered_titles['duration_type'] == duration_type]\n",
    "\n",
    "    '''película con mayor duracion'''\n",
    "    max_duration = filtered_titles.loc[filtered_titles['duration_int'].idxmax()]\n",
    "\n",
    "    '''Retorna los datos'''\n",
    "    return {'La pelicula con mayor duracion': max_duration.to_dict()}"
   ]
  },
  {
   "cell_type": "code",
   "execution_count": 16,
   "metadata": {},
   "outputs": [],
   "source": [
    "'''Consulta: Cantidad de películas por plataforma con puntaje mayor a XX en determinado año'''\n",
    "@app.get('/peliculas/score_count')\n",
    "async def get_score_count(platform: str, scored: float, year: int):\n",
    "    '''Filtra por puntaje y año'''\n",
    "    filtered_score = peliculas[(peliculas['platform'] == platform) & (peliculas['rating'] >= scored) & (peliculas['release_year'] == year)]\n",
    "\n",
    "    '''cantidad de películas'''\n",
    "    contador_peliculas = len(filtered_score)\n",
    "\n",
    "    return {'La cantidad de películas para el score, año y plataforma es ': contador_peliculas}"
   ]
  },
  {
   "cell_type": "code",
   "execution_count": 18,
   "metadata": {},
   "outputs": [],
   "source": [
    "'''Consulta: Cantidad de películas por plataforma con filtro de plataforma'''\n",
    "@app.get('/peliculas/count_platform')\n",
    "async def get_count_platform(platform: str):\n",
    "    '''plataforma'''\n",
    "    filtered_titles = peliculas[peliculas['platform'] == platform]\n",
    "\n",
    "    '''cantidad de películas'''\n",
    "    contador_peliculas = len(filtered_titles)\n",
    "\n",
    "    return {'La cantidad de películas para esta plataforma es ': contador_peliculas}"
   ]
  },
  {
   "cell_type": "code",
   "execution_count": 19,
   "metadata": {},
   "outputs": [],
   "source": [
    "'''Consulta: Actor que más se repite segun plataforma y año'''\n",
    "@app.get('/peliculas/most_common_actor')\n",
    "async def get_actor(platform: str, year: int):\n",
    "    '''plataforma y año'''\n",
    "    filtered_titles = peliculas[(peliculas['platform'] == platform) & (peliculas['release_year'] == year)]\n",
    "\n",
    "    '''lista de actores de todas las peliculas filtradas'''\n",
    "    lista_actores = [actors.split(', ') for actors in filtered_titles['cast']]\n",
    "    sublista_actores = [actor for sublist in lista_actores for actor in sublist]\n",
    "\n",
    "    '''actor mas comun en la lista'''\n",
    "    actor_mas_comun = max(set(sublista_actores), key=sublista_actores.count)\n",
    "\n",
    "    '''actor mas comun'''\n",
    "    return {'El actor que más se repite segun plataforma y año es ': actor_mas_comun}"
   ]
  }
 ],
 "metadata": {
  "kernelspec": {
   "display_name": "Python 3",
   "language": "python",
   "name": "python3"
  },
  "language_info": {
   "codemirror_mode": {
    "name": "ipython",
    "version": 3
   },
   "file_extension": ".py",
   "mimetype": "text/x-python",
   "name": "python",
   "nbconvert_exporter": "python",
   "pygments_lexer": "ipython3",
   "version": "3.10.10"
  },
  "orig_nbformat": 4
 },
 "nbformat": 4,
 "nbformat_minor": 2
}
