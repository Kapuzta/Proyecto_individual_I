{
 "cells": [
  {
   "cell_type": "code",
   "execution_count": 54,
   "metadata": {},
   "outputs": [],
   "source": [
    "import pandas as pd\n",
    "data_amazon_prime = pd.read_csv('MLOpsReviews/amazon_prime_titles.csv')\n",
    "data_disney_plus = pd.read_csv('MLOpsReviews/disney_plus_titles.csv')\n",
    "data_hulu = pd.read_csv('MLOpsReviews/hulu_titles.csv')\n",
    "data_netflix = pd.read_csv('MLOpsReviews/netflix_titles.csv')"
   ]
  },
  {
   "cell_type": "code",
   "execution_count": 56,
   "metadata": {},
   "outputs": [],
   "source": [
    "nombre = \"amazon\"\n",
    "data_amazon_prime['plataform'] = nombre"
   ]
  },
  {
   "cell_type": "code",
   "execution_count": 57,
   "metadata": {},
   "outputs": [],
   "source": [
    "nombre = \"disney_plus\"\n",
    "data_disney_plus['plataform'] = nombre"
   ]
  },
  {
   "cell_type": "code",
   "execution_count": 58,
   "metadata": {},
   "outputs": [],
   "source": [
    "nombre = \"hulu\"\n",
    "data_hulu['plataform'] = nombre"
   ]
  },
  {
   "cell_type": "code",
   "execution_count": 59,
   "metadata": {},
   "outputs": [],
   "source": [
    "nombre = \"netflix\"\n",
    "data_netflix['plataform'] = nombre"
   ]
  },
  {
   "cell_type": "code",
   "execution_count": 60,
   "metadata": {},
   "outputs": [],
   "source": [
    "def generate_id(row):\n",
    "    platform = row[\"plataform\"][0]  # Obtiene la primera letra del nombre de la plataforma\n",
    "    show_id = str(row[\"show_id\"])  # Obtiene el valor de la columna show_id como string\n",
    "    return f\"{platform}{show_id}\"  # Concatena la letra de la plataforma y el show_id"
   ]
  },
  {
   "cell_type": "code",
   "execution_count": 61,
   "metadata": {},
   "outputs": [],
   "source": [
    "data_disney_plus[\"id\"] = data_disney_plus.apply(generate_id, axis=1)\n",
    "data_amazon_prime[\"id\"] = data_amazon_prime.apply(generate_id, axis=1)\n",
    "data_hulu[\"id\"] = data_hulu.apply(generate_id, axis=1)\n",
    "data_netflix[\"id\"] = data_netflix.apply(generate_id, axis=1)"
   ]
  },
  {
   "cell_type": "code",
   "execution_count": 62,
   "metadata": {},
   "outputs": [],
   "source": [
    "data_disney_plus = data_disney_plus.reindex(columns=[\"id\", \"show_id\", \"plataform\", \"type\", \"title\", \"director\", \"cast\", \"country\", \"date_added\", \"release_year\", \"rating\", \"duration\", \"listed_in\", \"description\"])\n",
    "data_amazon_prime = data_amazon_prime.reindex(columns=[\"id\", \"show_id\", \"plataform\", \"type\", \"title\", \"director\", \"cast\", \"country\", \"date_added\", \"release_year\", \"rating\", \"duration\", \"listed_in\", \"description\"])\n",
    "data_hulu = data_hulu.reindex(columns=[\"id\", \"show_id\", \"plataform\", \"type\", \"title\", \"director\", \"cast\", \"country\", \"date_added\", \"release_year\", \"rating\", \"duration\", \"listed_in\", \"description\"])\n",
    "data_netflix = data_netflix.reindex(columns=[\"id\", \"show_id\", \"plataform\", \"type\", \"title\", \"director\", \"cast\", \"country\", \"date_added\", \"release_year\", \"rating\", \"duration\", \"listed_in\", \"description\"])"
   ]
  },
  {
   "cell_type": "code",
   "execution_count": 64,
   "metadata": {},
   "outputs": [],
   "source": [
    "data_amazon_prime['rating'] = data_amazon_prime['rating'].fillna('G')\n",
    "data_disney_plus['rating'] = data_disney_plus['rating'].fillna('G')\n",
    "data_hulu['rating'] = data_hulu['rating'].fillna('G')\n",
    "data_netflix['rating'] = data_netflix['rating'].fillna('G')"
   ]
  },
  {
   "cell_type": "code",
   "execution_count": 67,
   "metadata": {},
   "outputs": [
    {
     "data": {
      "text/plain": [
       "0       2021-09-25\n",
       "1       2021-09-24\n",
       "2       2021-09-24\n",
       "3       2021-09-24\n",
       "4       2021-09-24\n",
       "           ...    \n",
       "8802    2019-11-20\n",
       "8803    2019-07-01\n",
       "8804    2019-11-01\n",
       "8805    2020-01-11\n",
       "8806    2019-03-02\n",
       "Name: date_added, Length: 8807, dtype: object"
      ]
     },
     "execution_count": 67,
     "metadata": {},
     "output_type": "execute_result"
    }
   ],
   "source": [
    "data_netflix['date_added']"
   ]
  },
  {
   "cell_type": "code",
   "execution_count": 66,
   "metadata": {},
   "outputs": [],
   "source": [
    "data_amazon_prime['date_added'] = pd.to_datetime(data_amazon_prime['date_added'], format='%B %d, %Y', errors='coerce').dt.strftime('%Y-%m-%d')\n",
    "data_disney_plus['date_added'] = pd.to_datetime(data_disney_plus['date_added'], format='%B %d, %Y', errors='coerce').dt.strftime('%Y-%m-%d')\n",
    "data_hulu['date_added'] = pd.to_datetime(data_hulu['date_added'], format='%B %d, %Y', errors='coerce').dt.strftime('%Y-%m-%d')\n",
    "data_netflix['date_added'] = pd.to_datetime(data_netflix['date_added'], format='%B %d, %Y', errors='coerce').dt.strftime('%Y-%m-%d')\n"
   ]
  },
  {
   "cell_type": "code",
   "execution_count": 68,
   "metadata": {},
   "outputs": [],
   "source": [
    "def minusculas_texto(data):\n",
    "    for col in data.select_dtypes(include='object'):\n",
    "        data[col] = data[col].str.lower()\n",
    "    return data\n"
   ]
  },
  {
   "cell_type": "code",
   "execution_count": 69,
   "metadata": {},
   "outputs": [],
   "source": [
    "data_amazon_prime = minusculas_texto(data_amazon_prime)\n",
    "data_disney_plus = minusculas_texto(data_disney_plus)\n",
    "data_hulu = minusculas_texto(data_hulu)\n",
    "data_netflix = minusculas_texto(data_netflix)"
   ]
  },
  {
   "cell_type": "code",
   "execution_count": 70,
   "metadata": {},
   "outputs": [],
   "source": [
    "def separar_duration(data):\n",
    "    operacion = r'(\\d+)\\s*(min|season)'\n",
    "    data[['duration_int', 'duration_type']] = data['duration'].str.extract(operacion, expand=True)\n",
    "    data.drop('duration', axis=1, inplace=True)\n",
    "    return data"
   ]
  },
  {
   "cell_type": "code",
   "execution_count": 71,
   "metadata": {},
   "outputs": [],
   "source": [
    "data_amazon_prime = separar_duration(data_amazon_prime)"
   ]
  },
  {
   "cell_type": "code",
   "execution_count": 75,
   "metadata": {},
   "outputs": [],
   "source": [
    "data_disney_plus = separar_duration(data_disney_plus)\n",
    "data_hulu = separar_duration(data_hulu)\n",
    "data_netflix = separar_duration(data_netflix)"
   ]
  },
  {
   "cell_type": "code",
   "execution_count": 77,
   "metadata": {},
   "outputs": [],
   "source": [
    "data_frames = [data_amazon_prime, data_disney_plus, data_hulu, data_netflix]\n",
    "mega_data = pd.concat(data_frames)\n",
    "mega_data.to_csv('plataform_titles.csv', index=False)\n"
   ]
  },
  {
   "cell_type": "code",
   "execution_count": 36,
   "metadata": {},
   "outputs": [],
   "source": [
    "# data_amazon_prime['show_id'] = data_amazon_prime['show_id'].apply(lambda x: 'a' + str(x))\n",
    "# data_amazon_prime = data_amazon_prime.rename(columns={'show_id': 'id'})"
   ]
  },
  {
   "cell_type": "code",
   "execution_count": 78,
   "metadata": {},
   "outputs": [
    {
     "data": {
      "text/html": [
       "<div>\n",
       "<style scoped>\n",
       "    .dataframe tbody tr th:only-of-type {\n",
       "        vertical-align: middle;\n",
       "    }\n",
       "\n",
       "    .dataframe tbody tr th {\n",
       "        vertical-align: top;\n",
       "    }\n",
       "\n",
       "    .dataframe thead th {\n",
       "        text-align: right;\n",
       "    }\n",
       "</style>\n",
       "<table border=\"1\" class=\"dataframe\">\n",
       "  <thead>\n",
       "    <tr style=\"text-align: right;\">\n",
       "      <th></th>\n",
       "      <th>id</th>\n",
       "      <th>show_id</th>\n",
       "      <th>plataform</th>\n",
       "      <th>type</th>\n",
       "      <th>title</th>\n",
       "      <th>director</th>\n",
       "      <th>cast</th>\n",
       "      <th>country</th>\n",
       "      <th>date_added</th>\n",
       "      <th>release_year</th>\n",
       "      <th>rating</th>\n",
       "      <th>listed_in</th>\n",
       "      <th>description</th>\n",
       "      <th>duration_int</th>\n",
       "      <th>duration_type</th>\n",
       "    </tr>\n",
       "  </thead>\n",
       "  <tbody>\n",
       "    <tr>\n",
       "      <th>0</th>\n",
       "      <td>as1</td>\n",
       "      <td>s1</td>\n",
       "      <td>amazon</td>\n",
       "      <td>movie</td>\n",
       "      <td>the grand seduction</td>\n",
       "      <td>don mckellar</td>\n",
       "      <td>brendan gleeson, taylor kitsch, gordon pinsent</td>\n",
       "      <td>canada</td>\n",
       "      <td>2021-03-30</td>\n",
       "      <td>2014</td>\n",
       "      <td>g</td>\n",
       "      <td>comedy, drama</td>\n",
       "      <td>a small fishing village must procure a local d...</td>\n",
       "      <td>113</td>\n",
       "      <td>min</td>\n",
       "    </tr>\n",
       "    <tr>\n",
       "      <th>1</th>\n",
       "      <td>as2</td>\n",
       "      <td>s2</td>\n",
       "      <td>amazon</td>\n",
       "      <td>movie</td>\n",
       "      <td>take care good night</td>\n",
       "      <td>girish joshi</td>\n",
       "      <td>mahesh manjrekar, abhay mahajan, sachin khedekar</td>\n",
       "      <td>india</td>\n",
       "      <td>2021-03-30</td>\n",
       "      <td>2018</td>\n",
       "      <td>13+</td>\n",
       "      <td>drama, international</td>\n",
       "      <td>a metro family decides to fight a cyber crimin...</td>\n",
       "      <td>110</td>\n",
       "      <td>min</td>\n",
       "    </tr>\n",
       "    <tr>\n",
       "      <th>2</th>\n",
       "      <td>as3</td>\n",
       "      <td>s3</td>\n",
       "      <td>amazon</td>\n",
       "      <td>movie</td>\n",
       "      <td>secrets of deception</td>\n",
       "      <td>josh webber</td>\n",
       "      <td>tom sizemore, lorenzo lamas, robert lasardo, r...</td>\n",
       "      <td>united states</td>\n",
       "      <td>2021-03-30</td>\n",
       "      <td>2017</td>\n",
       "      <td>g</td>\n",
       "      <td>action, drama, suspense</td>\n",
       "      <td>after a man discovers his wife is cheating on ...</td>\n",
       "      <td>74</td>\n",
       "      <td>min</td>\n",
       "    </tr>\n",
       "    <tr>\n",
       "      <th>3</th>\n",
       "      <td>as4</td>\n",
       "      <td>s4</td>\n",
       "      <td>amazon</td>\n",
       "      <td>movie</td>\n",
       "      <td>pink: staying true</td>\n",
       "      <td>sonia anderson</td>\n",
       "      <td>interviews with: pink, adele, beyoncé, britney...</td>\n",
       "      <td>united states</td>\n",
       "      <td>2021-03-30</td>\n",
       "      <td>2014</td>\n",
       "      <td>g</td>\n",
       "      <td>documentary</td>\n",
       "      <td>pink breaks the mold once again, bringing her ...</td>\n",
       "      <td>69</td>\n",
       "      <td>min</td>\n",
       "    </tr>\n",
       "    <tr>\n",
       "      <th>4</th>\n",
       "      <td>as5</td>\n",
       "      <td>s5</td>\n",
       "      <td>amazon</td>\n",
       "      <td>movie</td>\n",
       "      <td>monster maker</td>\n",
       "      <td>giles foster</td>\n",
       "      <td>harry dean stanton, kieran o'brien, george cos...</td>\n",
       "      <td>united kingdom</td>\n",
       "      <td>2021-03-30</td>\n",
       "      <td>1989</td>\n",
       "      <td>g</td>\n",
       "      <td>drama, fantasy</td>\n",
       "      <td>teenage matt banting wants to work with a famo...</td>\n",
       "      <td>45</td>\n",
       "      <td>min</td>\n",
       "    </tr>\n",
       "  </tbody>\n",
       "</table>\n",
       "</div>"
      ],
      "text/plain": [
       "    id show_id plataform   type                 title        director  \\\n",
       "0  as1      s1    amazon  movie   the grand seduction    don mckellar   \n",
       "1  as2      s2    amazon  movie  take care good night    girish joshi   \n",
       "2  as3      s3    amazon  movie  secrets of deception     josh webber   \n",
       "3  as4      s4    amazon  movie    pink: staying true  sonia anderson   \n",
       "4  as5      s5    amazon  movie         monster maker    giles foster   \n",
       "\n",
       "                                                cast         country  \\\n",
       "0     brendan gleeson, taylor kitsch, gordon pinsent          canada   \n",
       "1   mahesh manjrekar, abhay mahajan, sachin khedekar           india   \n",
       "2  tom sizemore, lorenzo lamas, robert lasardo, r...   united states   \n",
       "3  interviews with: pink, adele, beyoncé, britney...   united states   \n",
       "4  harry dean stanton, kieran o'brien, george cos...  united kingdom   \n",
       "\n",
       "   date_added  release_year rating                listed_in  \\\n",
       "0  2021-03-30          2014      g            comedy, drama   \n",
       "1  2021-03-30          2018    13+     drama, international   \n",
       "2  2021-03-30          2017      g  action, drama, suspense   \n",
       "3  2021-03-30          2014      g              documentary   \n",
       "4  2021-03-30          1989      g           drama, fantasy   \n",
       "\n",
       "                                         description duration_int  \\\n",
       "0  a small fishing village must procure a local d...          113   \n",
       "1  a metro family decides to fight a cyber crimin...          110   \n",
       "2  after a man discovers his wife is cheating on ...           74   \n",
       "3  pink breaks the mold once again, bringing her ...           69   \n",
       "4  teenage matt banting wants to work with a famo...           45   \n",
       "\n",
       "  duration_type  \n",
       "0           min  \n",
       "1           min  \n",
       "2           min  \n",
       "3           min  \n",
       "4           min  "
      ]
     },
     "execution_count": 78,
     "metadata": {},
     "output_type": "execute_result"
    }
   ],
   "source": [
    "mega_data.head()"
   ]
  }
 ],
 "metadata": {
  "kernelspec": {
   "display_name": "Python 3",
   "language": "python",
   "name": "python3"
  },
  "language_info": {
   "codemirror_mode": {
    "name": "ipython",
    "version": 3
   },
   "file_extension": ".py",
   "mimetype": "text/x-python",
   "name": "python",
   "nbconvert_exporter": "python",
   "pygments_lexer": "ipython3",
   "version": "3.10.10"
  },
  "orig_nbformat": 4
 },
 "nbformat": 4,
 "nbformat_minor": 2
}
